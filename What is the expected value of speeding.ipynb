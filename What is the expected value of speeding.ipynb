{
 "cells": [
  {
   "cell_type": "markdown",
   "metadata": {},
   "source": [
    "# Goal\n",
    "This notebook seeks to answer the question: what is the expected value of a speeding ticket? We assume that speeding saves you time, which is worth money. But you have a small chance of getting caught, which wastes both time and money. So when is it worth it to speed?\n",
    "\n",
    "# Conclusion\n",
    "It usually makes sense to speed a bit above the limit, especially when you do it just a bit. But this model assumes a fairly high cost of a speeding ticket, and a fairly low risk of getting caught. A slight change to these factors would change the model a lot, making it inaccurate."
   ]
  },
  {
   "cell_type": "markdown",
   "metadata": {},
   "source": [
    "# Get the speeding data for Ontario from a file"
   ]
  },
  {
   "cell_type": "code",
   "execution_count": 1,
   "metadata": {},
   "outputs": [],
   "source": [
    "import csv\n",
    "import matplotlib.pyplot as plt\n",
    "import numpy as np"
   ]
  },
  {
   "cell_type": "code",
   "execution_count": 2,
   "metadata": {},
   "outputs": [],
   "source": [
    "fine_dict = dict()\n",
    "demerit_dict = dict()\n",
    "with open(\"speeding_data.csv\") as f:\n",
    "    reader = csv.reader(f)\n",
    "    for i, row in enumerate(reader):\n",
    "        if i == 0:\n",
    "            continue\n",
    "        speed = int(row[0])\n",
    "        fine_dict[speed] = float(row[1][1:])\n",
    "        demerit_dict[speed] = int(row[2])"
   ]
  },
  {
   "cell_type": "markdown",
   "metadata": {},
   "source": [
    "# Build the model\n",
    "## Part 1: cost functions\n",
    "Speeding has both costs and benefits. The main benefit is saving time. If you go at speed $\\Delta v$ (at a speed limit $v$) for a distance $d$, then you save $ d/v - d/(v+\\Delta v)$ minutes of time. If you value time at rate $s$, then speeding has a constant benefit of $ sd \\left( 1/v - 1/(v+\\Delta v) \\right)$\n",
    "\n",
    "On the other hand, speeding has a cost. Assuming you pay the cost of the ticket, that is of course one cost. However, you may have increased insurance rates, and demerit points, which are harder to value. \n",
    "- This [source](http://www.mdia2003.org/2013/for-sale-three-demerit-points-rrp-1000/) (admittedly not super legitimate seeming) says demerit points for for \\$500 to \\$1000, but for Australia. For simplicity, I will say demerit points are worth \\$200 each.\n",
    "- This [source](https://www.theglobeandmail.com/globe-drive/culture/commuting/is-it-worth-it-to-fight-my-speeding-ticket-in-court/article23970625/) says that a speeding ticket might increase your insurance rates by \\$300 per year. Let's assume that getting a ticket (any ticket) increases your insurance rates at \\$300 real dollars per year (working in real dollars avoids dealing with interest). Tickets stay on your records for 3 years in Ontario (same source as above), so this brings the total cost to \\$900."
   ]
  },
  {
   "cell_type": "code",
   "execution_count": 3,
   "metadata": {},
   "outputs": [],
   "source": [
    "def get_speeding_benefit_function(speed_limit, distance, value_of_time):\n",
    "    \"\"\"\n",
    "    Speed is in km/h, distance is in km, value of time is $/hr\n",
    "    \"\"\"\n",
    "    def speeding_benefit_function(speed_over_limit):\n",
    "        return value_of_time * distance * \\\n",
    "            (1. / speed_limit - 1. / (speed_limit + speed_over_limit))\n",
    "    \n",
    "    return speeding_benefit_function\n",
    "\n",
    "def get_speeding_cost_function(insurance_cost=900, demerit_pt_cost=200):\n",
    "    def speeding_cost_function(speed_over_limit):\n",
    "        if speed_over_limit <= 0:\n",
    "            return 0\n",
    "        return insurance_cost + fine_dict[speed_over_limit] + demerit_pt_cost * demerit_dict[speed_over_limit]\n",
    "    return speeding_cost_function"
   ]
  },
  {
   "cell_type": "markdown",
   "metadata": {},
   "source": [
    "### Test the functions"
   ]
  },
  {
   "cell_type": "code",
   "execution_count": 4,
   "metadata": {},
   "outputs": [
    {
     "data": {
      "text/plain": [
       "0.3333333333333333"
      ]
     },
     "execution_count": 4,
     "metadata": {},
     "output_type": "execute_result"
    }
   ],
   "source": [
    "get_speeding_benefit_function(100, 100, 1)(50)"
   ]
  },
  {
   "cell_type": "code",
   "execution_count": 5,
   "metadata": {},
   "outputs": [
    {
     "data": {
      "text/plain": [
       "1995.0"
      ]
     },
     "execution_count": 5,
     "metadata": {},
     "output_type": "execute_result"
    }
   ],
   "source": [
    "get_speeding_cost_function()(40)"
   ]
  },
  {
   "cell_type": "markdown",
   "metadata": {},
   "source": [
    "## Part 2: risk of getting caught\n",
    "Most people don't get caught when they speed, but if you do it enough it is almost certain that you will get caught. It is probably best to describe the risk in \"risk per km\"\n",
    "\n",
    "This risk is very hard to gauge. Not finding any easy data, I would estimate that the risk increases as you speed more. So my back of the envelope calculation is this:\n",
    "- Most people in Ontario go 10-20 over the limit regularly, and don't get caught much (say once every 5 years)\n",
    "- Assume that the average person in Onario travells 16 000 km per year (see figure 6 in [this report](http://oee.nrcan.gc.ca/publications/statistics/cvs08/chapter2.cfm?attr=0)) This puts the risk at 1.25e-5 / km.\n",
    "- Assume that the risk doubles at every 10 km interval. I don't really have a good basis for this"
   ]
  },
  {
   "cell_type": "code",
   "execution_count": 6,
   "metadata": {},
   "outputs": [],
   "source": [
    "def speeding_risk(speed_over_limit):\n",
    "    base_rate = 1.25e-5\n",
    "    if speed_over_limit <= 0:\n",
    "        return 0.\n",
    "    if 0 <= speed_over_limit <= 20:\n",
    "        return base_rate\n",
    "    if 20 <= speed_over_limit <= 30:\n",
    "        return 2 * base_rate\n",
    "    if 30 <= speed_over_limit <= 40:\n",
    "        return 4 * base_rate\n",
    "    if 40 <= speed_over_limit <= 50:\n",
    "        return 8 * base_rate\n",
    "    raise ValueError(\"Model not defined for over 50!\")"
   ]
  },
  {
   "cell_type": "markdown",
   "metadata": {},
   "source": [
    "# Now we can calculate the expected value of speeding"
   ]
  },
  {
   "cell_type": "code",
   "execution_count": 7,
   "metadata": {},
   "outputs": [],
   "source": [
    "def expected_value_of_speeding_per_km(amount_of_speeding, speed_limit, distance, value_of_time):\n",
    "    benefit_function = get_speeding_benefit_function(speed_limit, distance, value_of_time)\n",
    "    cost_function = get_speeding_cost_function()\n",
    "    \n",
    "    # Note if you speed, you still get the time benefit if you are caught\n",
    "    # So I don't subtract the risk value\n",
    "    return benefit_function(amount_of_speeding) - \\\n",
    "        distance * (speeding_risk(amount_of_speeding) * \n",
    "                    cost_function(amount_of_speeding))"
   ]
  },
  {
   "cell_type": "code",
   "execution_count": 8,
   "metadata": {},
   "outputs": [],
   "source": [
    "# Function for plotting\n",
    "def speed_plot(*args):\n",
    "    x = range(50)\n",
    "    y = [expected_value_of_speeding_per_km(v, *args) for v in x]\n",
    "    plt.title(r\"{} km per day, speed limit {}, time ${}/hour\".format(*args))\n",
    "    plt.plot(x, y)\n",
    "    plt.axhline(y=0, color='k', linestyle='-')\n",
    "    plt.show()"
   ]
  },
  {
   "cell_type": "markdown",
   "metadata": {},
   "source": [
    "# Go through a few situations\n",
    "You commute 50 km per day, with an average speed limit of 80. You value your time at \\$20 per hour\n",
    "\n",
    "Worth it to speed a bit, but not a huge amount (this amounts to dollars per day)"
   ]
  },
  {
   "cell_type": "code",
   "execution_count": 9,
   "metadata": {},
   "outputs": [
    {
     "data": {
      "image/png": "[encoded data removed]",
      "text/plain": [
       "<Figure size 432x288 with 1 Axes>"
      ]
     },
     "metadata": {},
     "output_type": "display_data"
    }
   ],
   "source": [
    "speed_plot(80, 50, 20)"
   ]
  },
  {
   "cell_type": "markdown",
   "metadata": {},
   "source": [
    "You do a LOT of city driving (200 km per day), average speed 50 km per hour. You value your time at \\$20 per hour.\n",
    "\n",
    "In this case, speeding is definitely worth it"
   ]
  },
  {
   "cell_type": "code",
   "execution_count": 10,
   "metadata": {},
   "outputs": [
    {
     "data": {
      "image/png": "[encoded data removed]",
      "text/plain": [
       "<Figure size 432x288 with 1 Axes>"
      ]
     },
     "metadata": {},
     "output_type": "display_data"
    }
   ],
   "source": [
    "speed_plot(50, 200, 20)"
   ]
  },
  {
   "cell_type": "markdown",
   "metadata": {},
   "source": [
    "You do a lot of highway driving (200 km per day), and you value your time a lot (\\$40/hour)"
   ]
  },
  {
   "cell_type": "code",
   "execution_count": 11,
   "metadata": {},
   "outputs": [
    {
     "data": {
      "image/png": "[encoded data removed]",
      "text/plain": [
       "<Figure size 432x288 with 1 Axes>"
      ]
     },
     "metadata": {},
     "output_type": "display_data"
    }
   ],
   "source": [
    "speed_plot(100, 200, 40)"
   ]
  },
  {
   "cell_type": "code",
   "execution_count": null,
   "metadata": {},
   "outputs": [],
   "source": []
  }
 ],
 "metadata": {
  "kernelspec": {
   "display_name": "Python 3",
   "language": "python",
   "name": "python3"
  },
  "language_info": {
   "codemirror_mode": {
    "name": "ipython",
    "version": 3
   },
   "file_extension": ".py",
   "mimetype": "text/x-python",
   "name": "python",
   "nbconvert_exporter": "python",
   "pygments_lexer": "ipython3",
   "version": "3.6.5"
  }
 },
 "nbformat": 4,
 "nbformat_minor": 2
}
